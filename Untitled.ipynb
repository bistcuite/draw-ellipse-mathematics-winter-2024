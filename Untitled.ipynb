{
 "cells": [
  {
   "cell_type": "markdown",
   "id": "2a4f3b75-7a4c-4a59-b47b-42fcaa3e9609",
   "metadata": {},
   "source": [
    "<div style=\"direction:rtl;\">\n",
    "    \n",
    "<div style=\"text-align:center;\">\n",
    "\n",
    "# پروژه رسم بیضی با پایتون - کلاس ریاضی عمومی2، دکتر عباسی\n",
    "</div>\n",
    "\n",
    "یک بیضی با فرمول عمومی زیر می‌تواند نشان داده شود:\n",
    "\n",
    "</div>\n",
    "\n",
    "\\begin{equation}\n",
    "\\frac{(x-\\alpha)^2}{a^2}+\\frac{(y-\\beta)^2}{b^2} = 1\n",
    "\\end{equation}\n",
    "\n",
    "<div style=\"direction:rtl;\">\n",
    "\n",
    "</div>\n",
    "\n",
    "\n",
    "<div style=\"direction:rtl;\">\n",
    "\n",
    "با کمی دقت متوجه میشویم که رابطه بالا مشابه رابطه مثلثاتی زیر است:\n",
    "\n",
    "</div>\n",
    "\n",
    "\\begin{equation}\n",
    "\\cos^2t + \\sin^2t = 1\n",
    "\\end{equation}\n",
    "\n",
    "<div style=\"direction:rtl;\">\n",
    "\n",
    "در نتیجه خواهیم داشت:\n",
    "\n",
    "</div>\n",
    "\n",
    "\\begin{equation}\n",
    "\\frac{x-\\alpha}{a} = \\cos t\n",
    "\\end{equation}\n",
    "\n",
    "\\begin{equation}\n",
    "\\frac{y-\\beta}{b} = \\sin t\n",
    "\\end{equation}\n",
    "\n",
    "<div style=\"direction:rtl;\">\n",
    "\n",
    "و در نهایت خواهیم داشت:\n",
    "\n",
    "</div>\n",
    "\n",
    "\\begin{equation}\n",
    "x = \\alpha + a*\\cos t\n",
    "\\end{equation}\n",
    "\n",
    "\n",
    "\\begin{equation}\n",
    "y = \\beta + b*\\sin t\n",
    "\\end{equation}"
   ]
  },
  {
   "cell_type": "code",
   "execution_count": 6,
   "id": "686a10f5-b30d-485a-86f4-24d1c06d9e35",
   "metadata": {},
   "outputs": [],
   "source": [
    "import matplotlib.pyplot as plt\n",
    "import numpy as np"
   ]
  },
  {
   "cell_type": "markdown",
   "id": "7aac281c",
   "metadata": {},
   "source": [
    "<div style=\"direction:rtl;\">\n",
    "\n",
    "حالا x و y بدست آمده را به صورت یک تابع پایتونی مینویسیم که به ازای هر t یک مختصات به ما بدهد:\n",
    "</div>"
   ]
  },
  {
   "cell_type": "code",
   "execution_count": 8,
   "id": "af2fdef6",
   "metadata": {},
   "outputs": [],
   "source": [
    "def ellipse(t, alpha, beta, a, b):\n",
    "    return (\n",
    "        alpha + a*np.cos(t), # X\n",
    "        beta + b*np.sin(t) # Y\n",
    "    )"
   ]
  },
  {
   "cell_type": "markdown",
   "id": "d9d7a2f3",
   "metadata": {},
   "source": [
    "<div style=\"direction:rtl;\">\n",
    "\n",
    "حالا ورودی را از کاربر می‌گیریم:\n",
    "\n",
    "</div>"
   ]
  },
  {
   "cell_type": "code",
   "execution_count": 14,
   "id": "90fbab6b",
   "metadata": {},
   "outputs": [],
   "source": [
    "a = int(input(\"اندازه قطر بزرگ:\"))\n",
    "b = int(input(\"اندازه قطر کوچک:\"))\n",
    "alpha = int(input(\"مختصات مرکز بیضی رو محور x:\"))\n",
    "beta = int(input(\"مختصات مرکز بیضی روی محور y:\"))"
   ]
  },
  {
   "cell_type": "markdown",
   "id": "07f0b470",
   "metadata": {},
   "source": [
    "<div style=\"direction:rtl;\">\n",
    "\n",
    "و مرحله آخر یعنی پردازش :\n",
    "\n",
    "</div>"
   ]
  },
  {
   "cell_type": "code",
   "execution_count": 43,
   "id": "50bf1ab9-4fca-471c-93e0-69d7128c8adf",
   "metadata": {},
   "outputs": [
    {
     "data": {
      "image/png": "[encoded data removed]",
      "text/plain": [
       "<Figure size 640x480 with 1 Axes>"
      ]
     },
     "metadata": {},
     "output_type": "display_data"
    }
   ],
   "source": [
    "t = np.linspace(0,2*np.pi,360)\n",
    "x, y = ellipse(t, alpha, beta, a, b)\n",
    "fig, ax = plt.subplots()\n",
    "ax.set_aspect(\"equal\")\n",
    "plt.title(\"Drawing Ellipse\")\n",
    "plt.xlabel(\"X\")\n",
    "plt.ylabel(\"Y\")\n",
    "plt.plot(x,y)\n",
    "plt.show()\n"
   ]
  },
  {
   "cell_type": "code",
   "execution_count": null,
   "id": "d43874b3",
   "metadata": {},
   "outputs": [],
   "source": []
  }
 ],
 "metadata": {
  "kernelspec": {
   "display_name": "Python 3 (ipykernel)",
   "language": "python",
   "name": "python3"
  },
  "language_info": {
   "codemirror_mode": {
    "name": "ipython",
    "version": 3
   },
   "file_extension": ".py",
   "mimetype": "text/x-python",
   "name": "python",
   "nbconvert_exporter": "python",
   "pygments_lexer": "ipython3",
   "version": "3.12.1"
  }
 },
 "nbformat": 4,
 "nbformat_minor": 5
}
